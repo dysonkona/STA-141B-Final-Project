{
 "cells": [
  {
   "cell_type": "markdown",
   "metadata": {},
   "source": [
    "Loading relevant packages"
   ]
  },
  {
   "cell_type": "code",
   "execution_count": null,
   "metadata": {},
   "outputs": [
    {
     "name": "stdout",
     "output_type": "stream",
     "text": [
      "0.25940999843877033\n"
     ]
    },
    {
     "data": {
      "text/plain": [
       "<module 'util' from '/Users/jeremyelvander/STA-141B-Final-Project/util.py'>"
      ]
     },
     "execution_count": 93,
     "metadata": {},
     "output_type": "execute_result"
    }
   ],
   "source": [
    "import requests\n",
    "import json\n",
    "from json import loads\n",
    "import pandas as pd\n",
    "from datetime import datetime\n",
    "import time\n",
    "import loading\n",
    "import util\n",
    "import importlib\n",
    "importlib.reload(loading)\n",
    "importlib.reload(util)"
   ]
  },
  {
   "cell_type": "markdown",
   "metadata": {},
   "source": [
    "Using BART API to find relevant station information (Station name, Lattitude & Longitude for mapping)"
   ]
  },
  {
   "cell_type": "code",
   "execution_count": null,
   "metadata": {},
   "outputs": [],
   "source": [
    "df = loading.stationLoad([\"San Francisco\", \"Oakland\"])\n"
   ]
  },
  {
   "cell_type": "code",
   "execution_count": 64,
   "metadata": {},
   "outputs": [
    {
     "data": {
      "text/html": [
       "<div>\n",
       "<style scoped>\n",
       "    .dataframe tbody tr th:only-of-type {\n",
       "        vertical-align: middle;\n",
       "    }\n",
       "\n",
       "    .dataframe tbody tr th {\n",
       "        vertical-align: top;\n",
       "    }\n",
       "\n",
       "    .dataframe thead th {\n",
       "        text-align: right;\n",
       "    }\n",
       "</style>\n",
       "<table border=\"1\" class=\"dataframe\">\n",
       "  <thead>\n",
       "    <tr style=\"text-align: right;\">\n",
       "      <th></th>\n",
       "      <th>name</th>\n",
       "      <th>city</th>\n",
       "      <th>gtfs_latitude</th>\n",
       "      <th>gtfs_longitude</th>\n",
       "    </tr>\n",
       "  </thead>\n",
       "  <tbody>\n",
       "    <tr>\n",
       "      <th>0</th>\n",
       "      <td>12th St. Oakland City Center</td>\n",
       "      <td>Oakland</td>\n",
       "      <td>37.803768</td>\n",
       "      <td>-122.271450</td>\n",
       "    </tr>\n",
       "    <tr>\n",
       "      <th>1</th>\n",
       "      <td>Oakland International Airport</td>\n",
       "      <td>Oakland</td>\n",
       "      <td>37.713238</td>\n",
       "      <td>-122.212191</td>\n",
       "    </tr>\n",
       "    <tr>\n",
       "      <th>2</th>\n",
       "      <td>MacArthur</td>\n",
       "      <td>Oakland</td>\n",
       "      <td>37.829065</td>\n",
       "      <td>-122.267040</td>\n",
       "    </tr>\n",
       "    <tr>\n",
       "      <th>3</th>\n",
       "      <td>Lake Merritt</td>\n",
       "      <td>Oakland</td>\n",
       "      <td>37.797027</td>\n",
       "      <td>-122.265180</td>\n",
       "    </tr>\n",
       "    <tr>\n",
       "      <th>4</th>\n",
       "      <td>Rockridge</td>\n",
       "      <td>Oakland</td>\n",
       "      <td>37.844702</td>\n",
       "      <td>-122.251371</td>\n",
       "    </tr>\n",
       "    <tr>\n",
       "      <th>5</th>\n",
       "      <td>Coliseum</td>\n",
       "      <td>Oakland</td>\n",
       "      <td>37.753661</td>\n",
       "      <td>-122.196869</td>\n",
       "    </tr>\n",
       "    <tr>\n",
       "      <th>6</th>\n",
       "      <td>Fruitvale</td>\n",
       "      <td>Oakland</td>\n",
       "      <td>37.774836</td>\n",
       "      <td>-122.224175</td>\n",
       "    </tr>\n",
       "    <tr>\n",
       "      <th>7</th>\n",
       "      <td>19th St. Oakland</td>\n",
       "      <td>Oakland</td>\n",
       "      <td>37.808350</td>\n",
       "      <td>-122.268602</td>\n",
       "    </tr>\n",
       "    <tr>\n",
       "      <th>8</th>\n",
       "      <td>West Oakland</td>\n",
       "      <td>Oakland</td>\n",
       "      <td>37.804872</td>\n",
       "      <td>-122.295140</td>\n",
       "    </tr>\n",
       "    <tr>\n",
       "      <th>9</th>\n",
       "      <td>Embarcadero</td>\n",
       "      <td>San Francisco</td>\n",
       "      <td>37.792874</td>\n",
       "      <td>-122.397020</td>\n",
       "    </tr>\n",
       "    <tr>\n",
       "      <th>10</th>\n",
       "      <td>Balboa Park</td>\n",
       "      <td>San Francisco</td>\n",
       "      <td>37.721585</td>\n",
       "      <td>-122.447506</td>\n",
       "    </tr>\n",
       "    <tr>\n",
       "      <th>11</th>\n",
       "      <td>Glen Park</td>\n",
       "      <td>San Francisco</td>\n",
       "      <td>37.733064</td>\n",
       "      <td>-122.433817</td>\n",
       "    </tr>\n",
       "    <tr>\n",
       "      <th>12</th>\n",
       "      <td>24th St. Mission</td>\n",
       "      <td>San Francisco</td>\n",
       "      <td>37.752470</td>\n",
       "      <td>-122.418143</td>\n",
       "    </tr>\n",
       "    <tr>\n",
       "      <th>13</th>\n",
       "      <td>Montgomery St.</td>\n",
       "      <td>San Francisco</td>\n",
       "      <td>37.789405</td>\n",
       "      <td>-122.401066</td>\n",
       "    </tr>\n",
       "    <tr>\n",
       "      <th>14</th>\n",
       "      <td>16th St. Mission</td>\n",
       "      <td>San Francisco</td>\n",
       "      <td>37.765062</td>\n",
       "      <td>-122.419694</td>\n",
       "    </tr>\n",
       "    <tr>\n",
       "      <th>15</th>\n",
       "      <td>Powell St.</td>\n",
       "      <td>San Francisco</td>\n",
       "      <td>37.784471</td>\n",
       "      <td>-122.407974</td>\n",
       "    </tr>\n",
       "    <tr>\n",
       "      <th>16</th>\n",
       "      <td>Civic Center/UN Plaza</td>\n",
       "      <td>San Francisco</td>\n",
       "      <td>37.779732</td>\n",
       "      <td>-122.414123</td>\n",
       "    </tr>\n",
       "  </tbody>\n",
       "</table>\n",
       "</div>"
      ],
      "text/plain": [
       "                             name           city  gtfs_latitude  \\\n",
       "0    12th St. Oakland City Center        Oakland      37.803768   \n",
       "1   Oakland International Airport        Oakland      37.713238   \n",
       "2                       MacArthur        Oakland      37.829065   \n",
       "3                    Lake Merritt        Oakland      37.797027   \n",
       "4                       Rockridge        Oakland      37.844702   \n",
       "5                        Coliseum        Oakland      37.753661   \n",
       "6                       Fruitvale        Oakland      37.774836   \n",
       "7                19th St. Oakland        Oakland      37.808350   \n",
       "8                    West Oakland        Oakland      37.804872   \n",
       "9                     Embarcadero  San Francisco      37.792874   \n",
       "10                    Balboa Park  San Francisco      37.721585   \n",
       "11                      Glen Park  San Francisco      37.733064   \n",
       "12               24th St. Mission  San Francisco      37.752470   \n",
       "13                 Montgomery St.  San Francisco      37.789405   \n",
       "14               16th St. Mission  San Francisco      37.765062   \n",
       "15                     Powell St.  San Francisco      37.784471   \n",
       "16          Civic Center/UN Plaza  San Francisco      37.779732   \n",
       "\n",
       "    gtfs_longitude  \n",
       "0      -122.271450  \n",
       "1      -122.212191  \n",
       "2      -122.267040  \n",
       "3      -122.265180  \n",
       "4      -122.251371  \n",
       "5      -122.196869  \n",
       "6      -122.224175  \n",
       "7      -122.268602  \n",
       "8      -122.295140  \n",
       "9      -122.397020  \n",
       "10     -122.447506  \n",
       "11     -122.433817  \n",
       "12     -122.418143  \n",
       "13     -122.401066  \n",
       "14     -122.419694  \n",
       "15     -122.407974  \n",
       "16     -122.414123  "
      ]
     },
     "execution_count": 64,
     "metadata": {},
     "output_type": "execute_result"
    }
   ],
   "source": [
    "df"
   ]
  },
  {
   "cell_type": "code",
   "execution_count": 65,
   "metadata": {},
   "outputs": [
    {
     "name": "stdout",
     "output_type": "stream",
     "text": [
      "{'Oakland': {'12th St. Oakland City Center': [37.803768, -122.27145], '19th St. Oakland': [37.80835, -122.268602], 'Coliseum': [37.753661, -122.196869], 'Fruitvale': [37.774836, -122.224175], 'Lake Merritt': [37.797027, -122.26518], 'MacArthur': [37.829065, -122.26704], 'Oakland International Airport': [37.713238, -122.212191], 'Rockridge': [37.844702, -122.251371], 'West Oakland': [37.804872, -122.29514]}, 'San Francisco': {'16th St. Mission': [37.765062, -122.419694], '24th St. Mission': [37.75247, -122.418143], 'Balboa Park': [37.721585, -122.447506], 'Civic Center/UN Plaza': [37.779732, -122.414123], 'Embarcadero': [37.792874, -122.39702], 'Glen Park': [37.733064, -122.433817], 'Montgomery St.': [37.789405, -122.401066], 'Powell St.': [37.784471, -122.407974]}}\n"
     ]
    },
    {
     "data": {
      "text/plain": [
       "[37.721585, -122.447506]"
      ]
     },
     "execution_count": 65,
     "metadata": {},
     "output_type": "execute_result"
    }
   ],
   "source": [
    "\n",
    "dct = util.dfToDict(df, 'name', ['gtfs_latitude', 'gtfs_longitude'], groupby = 'city')\n",
    "print(dct)\n",
    "dct['San Francisco']['Balboa Park']"
   ]
  },
  {
   "cell_type": "code",
   "execution_count": 96,
   "metadata": {},
   "outputs": [
    {
     "name": "stdout",
     "output_type": "stream",
     "text": [
      "{'12th St. Oakland City Center': 0.0, '19th St. Oakland': 0.25940999843877033, 'Lake Merritt': 0.4995130704552501}\n"
     ]
    }
   ],
   "source": [
    "testRow = df.iloc[0]\n",
    "testRow['city']\n",
    "city = dct[testRow['city']]\n",
    "# for station in city:\n",
    "#     print(city[station])\n",
    "stationCheck = util.inStationRadius(dct, testRow, radius = 0.5)\n",
    "print(stationCheck)"
   ]
  }
 ],
 "metadata": {
  "kernelspec": {
   "display_name": "Python 3",
   "language": "python",
   "name": "python3"
  },
  "language_info": {
   "codemirror_mode": {
    "name": "ipython",
    "version": 3
   },
   "file_extension": ".py",
   "mimetype": "text/x-python",
   "name": "python",
   "nbconvert_exporter": "python",
   "pygments_lexer": "ipython3",
   "version": "3.9.12"
  }
 },
 "nbformat": 4,
 "nbformat_minor": 2
}
