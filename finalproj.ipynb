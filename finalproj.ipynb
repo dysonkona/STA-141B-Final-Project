{
 "cells": [
  {
   "cell_type": "markdown",
   "metadata": {},
   "source": [
    "Loading relevant packages"
   ]
  },
  {
   "cell_type": "code",
   "execution_count": 91,
   "metadata": {},
   "outputs": [],
   "source": [
    "import requests\n",
    "import json\n",
    "from json import loads\n",
    "import pandas as pd\n",
    "from datetime import datetime\n",
    "import time"
   ]
  },
  {
   "cell_type": "markdown",
   "metadata": {},
   "source": [
    "Using BART API to find relevant station information (Station name, Lattitude & Longitude for mapping)"
   ]
  },
  {
   "cell_type": "code",
   "execution_count": 81,
   "metadata": {},
   "outputs": [],
   "source": [
    "url = \"https://api.bart.gov/api/stn.aspx\"  \n",
    "\n",
    "response = requests.get(url, params={\n",
    "    \"key\": key,  # outcoded personal legacy key\n",
    "    \"cmd\": \"stns\",\n",
    "    \"json\": \"y\"\n",
    "    \n",
    "})  \n",
    "\n",
    "time.sleep(2) #maybe use for loop if make mulitple requestst"
   ]
  },
  {
   "cell_type": "code",
   "execution_count": 82,
   "metadata": {},
   "outputs": [
    {
     "name": "stdout",
     "output_type": "stream",
     "text": [
      "{'?xml': {'@version': '1.0', '@encoding': 'utf-8'}, 'root': {'uri': {'#cdata-section': 'http://api.bart.gov/api/stn.aspx?cmd=stns&json=y'}, 'stations': {'station': [{'name': '12th St. Oakland City Center', 'abbr': '12TH', 'gtfs_latitude': '37.803768', 'gtfs_longitude': '-122.271450', 'address': '1245 Broadway', 'city': 'Oakland', 'county': 'alameda', 'state': 'CA', 'zipcode': '94612'}, {'name': '16th St. Mission', 'abbr': '16TH', 'gtfs_latitude': '37.765062', 'gtfs_longitude': '-122.419694', 'address': '2000 Mission Street', 'city': 'San Francisco', 'county': 'sanfrancisco', 'state': 'CA', 'zipcode': '94110'}, {'name': '19th St. Oakland', 'abbr': '19TH', 'gtfs_latitude': '37.808350', 'gtfs_longitude': '-122.268602', 'address': '1900 Broadway', 'city': 'Oakland', 'county': 'alameda', 'state': 'CA', 'zipcode': '94612'}, {'name': '24th St. Mission', 'abbr': '24TH', 'gtfs_latitude': '37.752470', 'gtfs_longitude': '-122.418143', 'address': '2800 Mission Street', 'city': 'San Francisco', 'county': 'sanfrancisco', 'state': 'CA', 'zipcode': '94110'}, {'name': 'Antioch', 'abbr': 'ANTC', 'gtfs_latitude': '37.995388', 'gtfs_longitude': '-121.780420', 'address': '1600 Slatten Ranch Road', 'city': 'Antioch', 'county': 'Contra Costa', 'state': 'CA', 'zipcode': '94509'}, {'name': 'Ashby', 'abbr': 'ASHB', 'gtfs_latitude': '37.852803', 'gtfs_longitude': '-122.270062', 'address': '3100 Adeline Street', 'city': 'Berkeley', 'county': 'alameda', 'state': 'CA', 'zipcode': '94703'}, {'name': 'Balboa Park', 'abbr': 'BALB', 'gtfs_latitude': '37.721585', 'gtfs_longitude': '-122.447506', 'address': '401 Geneva Avenue', 'city': 'San Francisco', 'county': 'sanfrancisco', 'state': 'CA', 'zipcode': '94112'}, {'name': 'Bay Fair', 'abbr': 'BAYF', 'gtfs_latitude': '37.696924', 'gtfs_longitude': '-122.126514', 'address': '15242 Hesperian Blvd.', 'city': 'San Leandro', 'county': 'alameda', 'state': 'CA', 'zipcode': '94578'}, {'name': 'Berryessa/North San Jose', 'abbr': 'BERY', 'gtfs_latitude': '37.368473', 'gtfs_longitude': '-121.874681', 'address': '1620 Berryessa Road', 'city': 'San Jose', 'county': 'Santa Clara', 'state': 'CA', 'zipcode': '95133'}, {'name': 'Castro Valley', 'abbr': 'CAST', 'gtfs_latitude': '37.690746', 'gtfs_longitude': '-122.075602', 'address': '3301 Norbridge Dr.', 'city': 'Castro Valley', 'county': 'alameda', 'state': 'CA', 'zipcode': '94546'}, {'name': 'Civic Center/UN Plaza', 'abbr': 'CIVC', 'gtfs_latitude': '37.779732', 'gtfs_longitude': '-122.414123', 'address': '1150 Market Street', 'city': 'San Francisco', 'county': 'sanfrancisco', 'state': 'CA', 'zipcode': '94102'}, {'name': 'Coliseum', 'abbr': 'COLS', 'gtfs_latitude': '37.753661', 'gtfs_longitude': '-122.196869', 'address': '7200 San Leandro St.', 'city': 'Oakland', 'county': 'alameda', 'state': 'CA', 'zipcode': '94621'}, {'name': 'Colma', 'abbr': 'COLM', 'gtfs_latitude': '37.684638', 'gtfs_longitude': '-122.466233', 'address': '365 D Street', 'city': 'Colma', 'county': 'sanmateo', 'state': 'CA', 'zipcode': '94014'}, {'name': 'Concord', 'abbr': 'CONC', 'gtfs_latitude': '37.973737', 'gtfs_longitude': '-122.029095', 'address': '1451 Oakland Avenue', 'city': 'Concord', 'county': 'contracosta', 'state': 'CA', 'zipcode': '94520'}, {'name': 'Daly City', 'abbr': 'DALY', 'gtfs_latitude': '37.706121', 'gtfs_longitude': '-122.469081', 'address': '500 John Daly Blvd.', 'city': 'Daly City', 'county': 'sanmateo', 'state': 'CA', 'zipcode': '94014'}, {'name': 'Downtown Berkeley', 'abbr': 'DBRK', 'gtfs_latitude': '37.870104', 'gtfs_longitude': '-122.268133', 'address': '2160 Shattuck Avenue', 'city': 'Berkeley', 'county': 'alameda', 'state': 'CA', 'zipcode': '94704'}, {'name': 'Dublin/Pleasanton', 'abbr': 'DUBL', 'gtfs_latitude': '37.701687', 'gtfs_longitude': '-121.899179', 'address': '5801 Owens Dr.', 'city': 'Pleasanton', 'county': 'alameda', 'state': 'CA', 'zipcode': '94588'}, {'name': 'El Cerrito del Norte', 'abbr': 'DELN', 'gtfs_latitude': '37.925086', 'gtfs_longitude': '-122.316794', 'address': '6400 Cutting Blvd.', 'city': 'El Cerrito', 'county': 'contracosta', 'state': 'CA', 'zipcode': '94530'}, {'name': 'El Cerrito Plaza', 'abbr': 'PLZA', 'gtfs_latitude': '37.902632', 'gtfs_longitude': '-122.298904', 'address': '6699 Fairmount Avenue', 'city': 'El Cerrito', 'county': 'contracosta', 'state': 'CA', 'zipcode': '94530'}, {'name': 'Embarcadero', 'abbr': 'EMBR', 'gtfs_latitude': '37.792874', 'gtfs_longitude': '-122.397020', 'address': '298 Market Street', 'city': 'San Francisco', 'county': 'sanfrancisco', 'state': 'CA', 'zipcode': '94111'}, {'name': 'Fremont', 'abbr': 'FRMT', 'gtfs_latitude': '37.557465', 'gtfs_longitude': '-121.976608', 'address': '2000 BART Way', 'city': 'Fremont', 'county': 'alameda', 'state': 'CA', 'zipcode': '94536'}, {'name': 'Fruitvale', 'abbr': 'FTVL', 'gtfs_latitude': '37.774836', 'gtfs_longitude': '-122.224175', 'address': '3401 East 12th Street', 'city': 'Oakland', 'county': 'alameda', 'state': 'CA', 'zipcode': '94601'}, {'name': 'Glen Park', 'abbr': 'GLEN', 'gtfs_latitude': '37.733064', 'gtfs_longitude': '-122.433817', 'address': '2901 Diamond Street', 'city': 'San Francisco', 'county': 'sanfrancisco', 'state': 'CA', 'zipcode': '94131'}, {'name': 'Hayward', 'abbr': 'HAYW', 'gtfs_latitude': '37.669723', 'gtfs_longitude': '-122.087018', 'address': \"699 'B' Street\", 'city': 'Hayward', 'county': 'alameda', 'state': 'CA', 'zipcode': '94541'}, {'name': 'Lafayette', 'abbr': 'LAFY', 'gtfs_latitude': '37.893176', 'gtfs_longitude': '-122.124630', 'address': '3601 Deer Hill Road', 'city': 'Lafayette', 'county': 'contracosta', 'state': 'CA', 'zipcode': '94549'}, {'name': 'Lake Merritt', 'abbr': 'LAKE', 'gtfs_latitude': '37.797027', 'gtfs_longitude': '-122.265180', 'address': '800 Madison Street', 'city': 'Oakland', 'county': 'alameda', 'state': 'CA', 'zipcode': '94607'}, {'name': 'MacArthur', 'abbr': 'MCAR', 'gtfs_latitude': '37.829065', 'gtfs_longitude': '-122.267040', 'address': '555 40th Street', 'city': 'Oakland', 'county': 'alameda', 'state': 'CA', 'zipcode': '94609'}, {'name': 'Millbrae', 'abbr': 'MLBR', 'gtfs_latitude': '37.600271', 'gtfs_longitude': '-122.386702', 'address': '200 North Rollins Road', 'city': 'Millbrae', 'county': 'sanmateo', 'state': 'CA', 'zipcode': '94030'}, {'name': 'Milpitas', 'abbr': 'MLPT', 'gtfs_latitude': '37.410277', 'gtfs_longitude': '-121.891081', 'address': '1755 S. Milpitas Blvd.', 'city': 'Milpitas', 'county': 'Santa Clara', 'state': 'CA', 'zipcode': '95035'}, {'name': 'Montgomery St.', 'abbr': 'MONT', 'gtfs_latitude': '37.789405', 'gtfs_longitude': '-122.401066', 'address': '598 Market Street', 'city': 'San Francisco', 'county': 'sanfrancisco', 'state': 'CA', 'zipcode': '94104'}, {'name': 'North Berkeley', 'abbr': 'NBRK', 'gtfs_latitude': '37.873967', 'gtfs_longitude': '-122.283440', 'address': '1750 Sacramento Street', 'city': 'Berkeley', 'county': 'alameda', 'state': 'CA', 'zipcode': '94702'}, {'name': 'North Concord/Martinez', 'abbr': 'NCON', 'gtfs_latitude': '38.003193', 'gtfs_longitude': '-122.024653', 'address': '3700 Port Chicago Highway', 'city': 'Concord', 'county': 'contracosta', 'state': 'CA', 'zipcode': '94520'}, {'name': 'Oakland International Airport', 'abbr': 'OAKL', 'gtfs_latitude': '37.713238', 'gtfs_longitude': '-122.212191', 'address': '4 Airport Drive', 'city': 'Oakland', 'county': 'alameda', 'state': 'CA', 'zipcode': '94621'}, {'name': 'Orinda', 'abbr': 'ORIN', 'gtfs_latitude': '37.878361', 'gtfs_longitude': '-122.183791', 'address': '11 Camino Pablo', 'city': 'Orinda', 'county': 'contracosta', 'state': 'CA', 'zipcode': '94563'}, {'name': 'Pittsburg/Bay Point', 'abbr': 'PITT', 'gtfs_latitude': '38.018914', 'gtfs_longitude': '-121.945154', 'address': '1700 West Leland Road', 'city': 'Pittsburg', 'county': 'contracosta', 'state': 'CA', 'zipcode': '94565'}, {'name': 'Pittsburg Center', 'abbr': 'PCTR', 'gtfs_latitude': '38.016941', 'gtfs_longitude': '-121.889457', 'address': '2099 Railroad Avenue', 'city': 'Pittsburg', 'county': 'Contra Costa', 'state': 'CA', 'zipcode': '94565'}, {'name': 'Pleasant Hill/Contra Costa Centre', 'abbr': 'PHIL', 'gtfs_latitude': '37.928468', 'gtfs_longitude': '-122.056012', 'address': '1365 Treat Blvd.', 'city': 'Walnut Creek', 'county': 'contracosta', 'state': 'CA', 'zipcode': '94597'}, {'name': 'Powell St.', 'abbr': 'POWL', 'gtfs_latitude': '37.784471', 'gtfs_longitude': '-122.407974', 'address': '899 Market Street', 'city': 'San Francisco', 'county': 'sanfrancisco', 'state': 'CA', 'zipcode': '94102'}, {'name': 'Richmond', 'abbr': 'RICH', 'gtfs_latitude': '37.936853', 'gtfs_longitude': '-122.353099', 'address': '1700 Nevin Avenue', 'city': 'Richmond', 'county': 'contracosta', 'state': 'CA', 'zipcode': '94801'}, {'name': 'Rockridge', 'abbr': 'ROCK', 'gtfs_latitude': '37.844702', 'gtfs_longitude': '-122.251371', 'address': '5660 College Avenue', 'city': 'Oakland', 'county': 'alameda', 'state': 'CA', 'zipcode': '94618'}, {'name': 'San Bruno', 'abbr': 'SBRN', 'gtfs_latitude': '37.637761', 'gtfs_longitude': '-122.416287', 'address': '1151 Huntington Avenue', 'city': 'San Bruno', 'county': 'sanmateo', 'state': 'CA', 'zipcode': '94066'}, {'name': 'San Francisco International Airport', 'abbr': 'SFIA', 'gtfs_latitude': '37.615966', 'gtfs_longitude': '-122.392409', 'address': 'International Terminal, Level 3', 'city': \"San Francisco Int'l Airport\", 'county': 'sanmateo', 'state': 'CA', 'zipcode': '94128'}, {'name': 'San Leandro', 'abbr': 'SANL', 'gtfs_latitude': '37.721947', 'gtfs_longitude': '-122.160844', 'address': '1401 San Leandro Blvd.', 'city': 'San Leandro', 'county': 'alameda', 'state': 'CA', 'zipcode': '94577'}, {'name': 'South Hayward', 'abbr': 'SHAY', 'gtfs_latitude': '37.634375', 'gtfs_longitude': '-122.057189', 'address': '28601 Dixon Street', 'city': 'Hayward', 'county': 'alameda', 'state': 'CA', 'zipcode': '94544'}, {'name': 'South San Francisco', 'abbr': 'SSAN', 'gtfs_latitude': '37.664245', 'gtfs_longitude': '-122.443960', 'address': '1333 Mission Road', 'city': 'South San Francisco', 'county': 'sanmateo', 'state': 'CA', 'zipcode': '94080'}, {'name': 'Union City', 'abbr': 'UCTY', 'gtfs_latitude': '37.590630', 'gtfs_longitude': '-122.017388', 'address': '10 Union Square', 'city': 'Union City', 'county': 'alameda', 'state': 'CA', 'zipcode': '94587'}, {'name': 'Walnut Creek', 'abbr': 'WCRK', 'gtfs_latitude': '37.905522', 'gtfs_longitude': '-122.067527', 'address': '200 Ygnacio Valley Road', 'city': 'Walnut Creek', 'county': 'contracosta', 'state': 'CA', 'zipcode': '94596'}, {'name': 'Warm Springs/South Fremont', 'abbr': 'WARM', 'gtfs_latitude': '37.502171', 'gtfs_longitude': '-121.939313', 'address': '45193 Warm Springs Blvd', 'city': 'Fremont', 'county': 'alameda', 'state': 'CA', 'zipcode': '94539'}, {'name': 'West Dublin/Pleasanton', 'abbr': 'WDUB', 'gtfs_latitude': '37.699756', 'gtfs_longitude': '-121.928240', 'address': '6501 Golden Gate Drive', 'city': 'Dublin', 'county': 'alameda', 'state': 'CA', 'zipcode': '94568'}, {'name': 'West Oakland', 'abbr': 'WOAK', 'gtfs_latitude': '37.804872', 'gtfs_longitude': '-122.295140', 'address': '1451 7th Street', 'city': 'Oakland', 'county': 'alameda', 'state': 'CA', 'zipcode': '94607'}]}, 'message': ''}}\n"
     ]
    }
   ],
   "source": [
    "# Check if the request was successful\n",
    "if response.status_code == 200:\n",
    "    data = response.json()  # Parse JSON response\n",
    "    print(data)\n",
    "else:\n",
    "    print(\"Error:\", response.status_code)"
   ]
  },
  {
   "cell_type": "code",
   "execution_count": 83,
   "metadata": {},
   "outputs": [],
   "source": [
    "data = data[\"root\"][\"stations\"][\"station\"] #long list of nested dicts, get down\n",
    "sfstations = [] #initialize empty list of sf stations"
   ]
  },
  {
   "cell_type": "code",
   "execution_count": 85,
   "metadata": {},
   "outputs": [],
   "source": [
    "for station in data:\n",
    "    # Check if the city is \"San Francisco\"\n",
    "    if station.get(\"city\") == \"San Francisco\":\n",
    "        sfstations.append(station)"
   ]
  },
  {
   "cell_type": "code",
   "execution_count": null,
   "metadata": {},
   "outputs": [],
   "source": [
    "df = pd.DataFrame(sfstations)[['name', 'gtfs_latitude', 'gtfs_longitude']]"
   ]
  },
  {
   "cell_type": "code",
   "execution_count": 90,
   "metadata": {},
   "outputs": [
    {
     "data": {
      "text/html": [
       "<div>\n",
       "<style scoped>\n",
       "    .dataframe tbody tr th:only-of-type {\n",
       "        vertical-align: middle;\n",
       "    }\n",
       "\n",
       "    .dataframe tbody tr th {\n",
       "        vertical-align: top;\n",
       "    }\n",
       "\n",
       "    .dataframe thead th {\n",
       "        text-align: right;\n",
       "    }\n",
       "</style>\n",
       "<table border=\"1\" class=\"dataframe\">\n",
       "  <thead>\n",
       "    <tr style=\"text-align: right;\">\n",
       "      <th></th>\n",
       "      <th>name</th>\n",
       "      <th>gtfs_latitude</th>\n",
       "      <th>gtfs_longitude</th>\n",
       "    </tr>\n",
       "  </thead>\n",
       "  <tbody>\n",
       "    <tr>\n",
       "      <th>0</th>\n",
       "      <td>16th St. Mission</td>\n",
       "      <td>37.765062</td>\n",
       "      <td>-122.419694</td>\n",
       "    </tr>\n",
       "    <tr>\n",
       "      <th>1</th>\n",
       "      <td>24th St. Mission</td>\n",
       "      <td>37.752470</td>\n",
       "      <td>-122.418143</td>\n",
       "    </tr>\n",
       "    <tr>\n",
       "      <th>2</th>\n",
       "      <td>Balboa Park</td>\n",
       "      <td>37.721585</td>\n",
       "      <td>-122.447506</td>\n",
       "    </tr>\n",
       "    <tr>\n",
       "      <th>3</th>\n",
       "      <td>Civic Center/UN Plaza</td>\n",
       "      <td>37.779732</td>\n",
       "      <td>-122.414123</td>\n",
       "    </tr>\n",
       "    <tr>\n",
       "      <th>4</th>\n",
       "      <td>Embarcadero</td>\n",
       "      <td>37.792874</td>\n",
       "      <td>-122.397020</td>\n",
       "    </tr>\n",
       "    <tr>\n",
       "      <th>5</th>\n",
       "      <td>Glen Park</td>\n",
       "      <td>37.733064</td>\n",
       "      <td>-122.433817</td>\n",
       "    </tr>\n",
       "    <tr>\n",
       "      <th>6</th>\n",
       "      <td>Montgomery St.</td>\n",
       "      <td>37.789405</td>\n",
       "      <td>-122.401066</td>\n",
       "    </tr>\n",
       "    <tr>\n",
       "      <th>7</th>\n",
       "      <td>Powell St.</td>\n",
       "      <td>37.784471</td>\n",
       "      <td>-122.407974</td>\n",
       "    </tr>\n",
       "  </tbody>\n",
       "</table>\n",
       "</div>"
      ],
      "text/plain": [
       "                    name gtfs_latitude gtfs_longitude\n",
       "0       16th St. Mission     37.765062    -122.419694\n",
       "1       24th St. Mission     37.752470    -122.418143\n",
       "2            Balboa Park     37.721585    -122.447506\n",
       "3  Civic Center/UN Plaza     37.779732    -122.414123\n",
       "4            Embarcadero     37.792874    -122.397020\n",
       "5              Glen Park     37.733064    -122.433817\n",
       "6         Montgomery St.     37.789405    -122.401066\n",
       "7             Powell St.     37.784471    -122.407974"
      ]
     },
     "execution_count": 90,
     "metadata": {},
     "output_type": "execute_result"
    }
   ],
   "source": [
    "df # if sf crime api provides info on crime for all bart stations do all bart stations\n"
   ]
  }
 ],
 "metadata": {
  "kernelspec": {
   "display_name": "Python 3",
   "language": "python",
   "name": "python3"
  },
  "language_info": {
   "codemirror_mode": {
    "name": "ipython",
    "version": 3
   },
   "file_extension": ".py",
   "mimetype": "text/x-python",
   "name": "python",
   "nbconvert_exporter": "python",
   "pygments_lexer": "ipython3",
   "version": "3.10.7"
  }
 },
 "nbformat": 4,
 "nbformat_minor": 2
}
