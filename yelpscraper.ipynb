{
 "cells": [
  {
   "cell_type": "code",
   "execution_count": 2,
   "metadata": {},
   "outputs": [],
   "source": [
    "import requests\n",
    "import requests_cache\n",
    "import lxml.html as lx\n",
    "import re\n",
    "from selenium import webdriver\n",
    "import time\n",
    "import random"
   ]
  },
  {
   "cell_type": "code",
   "execution_count": 4,
   "metadata": {},
   "outputs": [],
   "source": [
    "response= requests.get(\"https://www.yelp.com/biz/bart-16th-st-mission-san-francisco?sort_by=date_desc\")\n",
    "html_tree = lx.fromstring(response.text) #not necessairly working might need to use api\n",
    "\n",
    "reviews = html_tree.xpath(\"//div[@id='reviews']//ul[@class = ' list__09f24__ynIEd']/li//div[@class = ' y-css-1pnalxe']/p/span/text()\")"
   ]
  },
  {
   "cell_type": "code",
   "execution_count": 6,
   "metadata": {},
   "outputs": [
    {
     "data": {
      "text/plain": [
       "18"
      ]
     },
     "execution_count": 6,
     "metadata": {},
     "output_type": "execute_result"
    }
   ],
   "source": [
    "len(reviews)"
   ]
  },
  {
   "cell_type": "code",
   "execution_count": 5,
   "metadata": {},
   "outputs": [
    {
     "data": {
      "text/plain": [
       "['https://www.yelp.com/biz/bart-16th-st-mission-san-francisco?sort_by=date_desc&start=10',\n",
       " 'https://www.yelp.com/biz/bart-16th-st-mission-san-francisco?sort_by=date_desc&start=20',\n",
       " 'https://www.yelp.com/biz/bart-16th-st-mission-san-francisco?sort_by=date_desc&start=30',\n",
       " 'https://www.yelp.com/biz/bart-16th-st-mission-san-francisco?sort_by=date_desc&start=40',\n",
       " 'https://www.yelp.com/biz/bart-16th-st-mission-san-francisco?sort_by=date_desc&start=50',\n",
       " 'https://www.yelp.com/biz/bart-16th-st-mission-san-francisco?sort_by=date_desc&start=60',\n",
       " 'https://www.yelp.com/biz/bart-16th-st-mission-san-francisco?sort_by=date_desc&start=70',\n",
       " 'https://www.yelp.com/biz/bart-16th-st-mission-san-francisco?sort_by=date_desc&start=80']"
      ]
     },
     "execution_count": 5,
     "metadata": {},
     "output_type": "execute_result"
    }
   ],
   "source": [
    "nextbuttons = html_tree.xpath(\"//span[@class = ' y-css-yrt0i5']//a[@class = 'pagination-link-component__09f24__JRiQO y-css-14k1rqv']/@href\")\n",
    "nextbuttons "
   ]
  },
  {
   "cell_type": "code",
   "execution_count": 18,
   "metadata": {},
   "outputs": [
    {
     "data": {
      "text/plain": [
       "['Page: 9']"
      ]
     },
     "execution_count": 18,
     "metadata": {},
     "output_type": "execute_result"
    }
   ],
   "source": [
    "html_tree.xpath(\"(//a[div[@class='undefined y-css-1wz9c5l']])[last()]/div/@aria-label\")\n"
   ]
  },
  {
   "cell_type": "code",
   "execution_count": 11,
   "metadata": {},
   "outputs": [
    {
     "name": "stdout",
     "output_type": "stream",
     "text": [
      "Failed to fetch page: https://www.yelp.com/biz/bart-16th-st-mission-san-francisco?sort_by=date_desc&start=80\n"
     ]
    }
   ],
   "source": [
    "reviewlist = []\n",
    "counter = 0 \n",
    "\n",
    "while counter < (len(nextbuttons)):\n",
    "    response = requests.get(\"https://www.yelp.com/biz/bart-16th-st-mission-san-francisco?sort_by=date_desc\")\n",
    "    html_tree = lx.fromstring(response.text)\n",
    "    reviews = html_tree.xpath(\"//div[@id='reviews']//ul[@class = ' list__09f24__ynIEd']/li//div[@class = ' y-css-1pnalxe']/p/span/text()\")\n",
    "    reviewlist.extend(reviews)\n",
    "    nextbuttons = html_tree.xpath(\"(//span[@class = ' y-css-yrt0i5']//a[@class = 'pagination-link-component__09f24__JRiQO y-css-14k1rqv'])/@href\")\n",
    "    for link in nextbuttons:\n",
    "        if response.status_code != 200:\n",
    "            print(f\"Failed to fetch page: {link}\")\n",
    "            break\n",
    "        else:\n",
    "                response = requests.get(link)\n",
    "                html_tree = lx.fromstring(response.text)\n",
    "                reviews = html_tree.xpath(\"//div[@id='reviews']//ul[@class = ' list__09f24__ynIEd']/li//div[@class = ' y-css-1pnalxe']/p/span/text()\")\n",
    "                reviewlist.extend(reviews)\n",
    "                counter+=1\n",
    "                sleep_time = random.uniform(2, 5)  # Random delay to reduce likelihood of detection\n",
    "                time.sleep(sleep_time)"
   ]
  },
  {
   "cell_type": "code",
   "execution_count": 12,
   "metadata": {},
   "outputs": [
    {
     "data": {
      "text/plain": [
       "144"
      ]
     },
     "execution_count": 12,
     "metadata": {},
     "output_type": "execute_result"
    }
   ],
   "source": [
    "len(reviewlist)"
   ]
  },
  {
   "cell_type": "code",
   "execution_count": 7,
   "metadata": {},
   "outputs": [],
   "source": [
    "def GetReviews(url):\n",
    "    reviewlist = []\n",
    "    counter = 0 \n",
    "    response = requests.get(url)\n",
    "    html_tree = lx.fromstring(response.text)\n",
    "    reviews = html_tree.xpath(\"//div[@id='reviews']//ul[@class = ' list__09f24__ynIEd']/li//div[@class = ' y-css-1pnalxe']/p/span/text()\")\n",
    "    reviewlist.extend(reviews)\n",
    "    nextbuttons = html_tree.xpath(\"(//span[@class = ' y-css-yrt0i5']//a[@class = 'pagination-link-component__09f24__JRiQO y-css-14k1rqv'])/@href\")\n",
    "\n",
    "    while counter < (len(nextbuttons)):\n",
    "    \n",
    "        for link in nextbuttons:\n",
    "            if response.status_code != 200:\n",
    "                print(f\"Failed to fetch page: {link}\")\n",
    "                break\n",
    "            else:\n",
    "                response = requests.get(link)\n",
    "                html_tree = lx.fromstring(response.text)\n",
    "                reviews = html_tree.xpath(\"//div[@id='reviews']//ul[@class = ' list__09f24__ynIEd']/li//div[@class = ' y-css-1pnalxe']/p/span/text()\")\n",
    "                reviewlist.extend(reviews)\n",
    "                counter+=1\n",
    "                sleep_time = random.uniform(2, 5)  # Random delay to reduce likelihood of detection\n",
    "                time.sleep(sleep_time)\n",
    "    return reviewlist"
   ]
  },
  {
   "cell_type": "code",
   "execution_count": 9,
   "metadata": {},
   "outputs": [
    {
     "data": {
      "text/plain": [
       "[]"
      ]
     },
     "execution_count": 9,
     "metadata": {},
     "output_type": "execute_result"
    }
   ],
   "source": [
    "GetReviews(\"https://www.yelp.com/biz/bart-16th-st-mission-san-francisco?sort_by=date_desc\")"
   ]
  }
 ],
 "metadata": {
  "kernelspec": {
   "display_name": "Python 3",
   "language": "python",
   "name": "python3"
  },
  "language_info": {
   "codemirror_mode": {
    "name": "ipython",
    "version": 3
   },
   "file_extension": ".py",
   "mimetype": "text/x-python",
   "name": "python",
   "nbconvert_exporter": "python",
   "pygments_lexer": "ipython3",
   "version": "3.10.7"
  }
 },
 "nbformat": 4,
 "nbformat_minor": 2
}
